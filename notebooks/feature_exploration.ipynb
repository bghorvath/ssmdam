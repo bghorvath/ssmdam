{
 "cells": [
  {
   "cell_type": "code",
   "execution_count": 1,
   "metadata": {},
   "outputs": [
    {
     "name": "stdout",
     "output_type": "stream",
     "text": [
      "/Users/bghorvath/git/acoustic-anomaly-detection\n"
     ]
    }
   ],
   "source": [
    "cd .."
   ]
  },
  {
   "cell_type": "code",
   "execution_count": 2,
   "metadata": {},
   "outputs": [],
   "source": [
    "import os\n",
    "from tqdm import tqdm\n",
    "import librosa\n",
    "import numpy as np\n",
    "import matplotlib.pyplot as plt\n",
    "from collections import defaultdict\n",
    "import seaborn as sns\n",
    "\n",
    "from acoustic_anomaly_detection.utils import get_attributes"
   ]
  },
  {
   "cell_type": "code",
   "execution_count": 3,
   "metadata": {},
   "outputs": [],
   "source": [
    "FRAME_SIZE = 1024\n",
    "N_MELS = 128\n",
    "N_MFCC = 40\n",
    "N_FTT = 1024\n",
    "HOP_LENGTH = 512\n",
    "POWER = 2.0\n",
    "SR = 16000\n",
    "DURATION = 10\n",
    "FRAMES = int(np.ceil(SR * 10 / HOP_LENGTH))"
   ]
  },
  {
   "cell_type": "markdown",
   "metadata": {},
   "source": [
    "### Calculate metrics for each machine ID"
   ]
  },
  {
   "cell_type": "code",
   "execution_count": 4,
   "metadata": {},
   "outputs": [],
   "source": [
    "def get_amplitude_envelope(signal, _):\n",
    "    ae = np.array([max(signal[i:i+FRAME_SIZE]) for i in range(0, len(signal), HOP_LENGTH)])\n",
    "    return ae\n",
    "\n",
    "def get_rms(signal):\n",
    "    rms = librosa.feature.rms(y=signal, frame_length=FRAME_SIZE, hop_length=HOP_LENGTH)[0]\n",
    "    return rms\n",
    "\n",
    "def get_spectral_centroid(signal, sr):\n",
    "    sc = librosa.feature.spectral_centroid(y=signal, sr=sr, n_fft=N_FTT, hop_length=HOP_LENGTH).squeeze()\n",
    "    return sc\n",
    "\n",
    "def get_spectral_bandwidth(signal, sr):\n",
    "    sb = librosa.feature.spectral_bandwidth(y=signal, sr=sr, n_fft=N_FTT, hop_length=HOP_LENGTH).squeeze()\n",
    "    return sb\n",
    "\n",
    "def get_spectral_envelope(signal, sr):\n",
    "    S = librosa.feature.melspectrogram(y=signal, sr=sr, n_fft=N_FTT, hop_length=HOP_LENGTH, n_mels=N_MELS, power=POWER)\n",
    "    se = S.mean(axis=1)\n",
    "    return se"
   ]
  },
  {
   "cell_type": "code",
   "execution_count": 5,
   "metadata": {},
   "outputs": [],
   "source": [
    "metrics_dict = {\n",
    "    \"time\" : {\n",
    "        \"amplitude_envelope\": get_amplitude_envelope,\n",
    "    },\n",
    "    \"time_frequency\" : {\n",
    "        \"spectral_centroid\": get_spectral_centroid,\n",
    "        \"spectral_bandwidth\": get_spectral_bandwidth,\n",
    "    },\n",
    "    \"frequency\" : {\n",
    "        \"spectral_envelope\": get_spectral_envelope,\n",
    "    }\n",
    "}"
   ]
  },
  {
   "cell_type": "code",
   "execution_count": 6,
   "metadata": {},
   "outputs": [],
   "source": [
    "def calculate_stats(file_list):\n",
    "    metrics = {}\n",
    "    for file in file_list:\n",
    "        signal, sr = librosa.load(file, sr=SR)\n",
    "        signal = librosa.util.fix_length(signal, size=DURATION * SR) \n",
    "        for domain, metric in metrics_dict.items():\n",
    "            y_axis = N_MELS if domain == \"frequency\" else FRAMES\n",
    "            for metric_name, metric_func in metric.items():\n",
    "                if metric_name not in metrics:\n",
    "                    metrics[metric_name] = np.empty((0, y_axis))\n",
    "                metric_value = metric_func(signal, sr)\n",
    "                metrics[metric_name] = np.vstack((metrics[metric_name], metric_value))\n",
    "    \n",
    "    return metrics"
   ]
  },
  {
   "cell_type": "markdown",
   "metadata": {},
   "source": [
    "## Compare metrics between source and target domain (train only)"
   ]
  },
  {
   "cell_type": "code",
   "execution_count": 7,
   "metadata": {},
   "outputs": [
    {
     "name": "stderr",
     "output_type": "stream",
     "text": [
      "100%|██████████| 7/7 [02:24<00:00, 20.65s/it]\n",
      "100%|██████████| 7/7 [02:22<00:00, 20.30s/it]\n"
     ]
    }
   ],
   "source": [
    "data_dir = os.path.join(\"data\", \"dcase2023t2\")\n",
    "plot_dir = os.path.join(\"results\", \"plots\", \"feature_exploration\")\n",
    "os.makedirs(plot_dir, exist_ok=True)\n",
    "\n",
    "train_test = \"train\"\n",
    "machine_stats = {}\n",
    "for dev_eval in [\"dev\", \"eval\"]:\n",
    "    machine_types = os.listdir(os.path.join(data_dir, dev_eval))\n",
    "    for machine_type in tqdm(machine_types):\n",
    "        data_path = os.path.join(data_dir, dev_eval, machine_type, train_test)\n",
    "        for domain in [\"source\", \"target\"]:\n",
    "            file_list = []\n",
    "            for file in os.listdir(data_path):\n",
    "                file_path = os.path.join(data_dir, dev_eval, machine_type, train_test, file)\n",
    "                attributes = get_attributes(file_path)\n",
    "                attr_domain = attributes[\"domain\"]\n",
    "                if attr_domain == domain:\n",
    "                    file_list.append(file_path)\n",
    "            stats = calculate_stats(file_list)\n",
    "            machine_stats[dev_eval + \"_\" + machine_type + \"_\" + domain] = stats"
   ]
  },
  {
   "cell_type": "markdown",
   "metadata": {},
   "source": [
    "### Aggregate stats by calculating mean"
   ]
  },
  {
   "cell_type": "code",
   "execution_count": 18,
   "metadata": {},
   "outputs": [],
   "source": [
    "agg_stats = defaultdict(lambda: defaultdict(lambda: dict()))\n",
    "for machine, stats in machine_stats.items():\n",
    "    dev_eval, machine_type, domain = machine.split(\"_\")\n",
    "    for metric, value in stats.items():\n",
    "        agg_stats[metric][machine_type][domain] = value.mean(axis=0)"
   ]
  },
  {
   "cell_type": "markdown",
   "metadata": {},
   "source": [
    "### Plot metrics for each machine ID"
   ]
  },
  {
   "cell_type": "code",
   "execution_count": 24,
   "metadata": {},
   "outputs": [],
   "source": [
    "for metric, metric_machine_stats in agg_stats.items():\n",
    "    xlabel = \"Mel bins\" if metric in metrics_dict[\"frequency\"] else \"Frames\"\n",
    "    ylabel = \"Frequency\" if metric in metrics_dict[\"time_frequency\"] else \"Power\"\n",
    "    for machine_type, machine_type_stats in metric_machine_stats.items():\n",
    "        plt.figure(figsize=(5, 5))\n",
    "        plt.scatter(x=range(machine_type_stats[\"source\"].shape[0]), y=machine_type_stats[\"source\"], label=\"source\", s=10)\n",
    "        plt.scatter(x=range(machine_type_stats[\"target\"].shape[0]), y=machine_type_stats[\"target\"], label=\"target\", s=10)\n",
    "        plt.title(metric.replace(\"_\", \" \").title())\n",
    "        plt.xlabel(xlabel)\n",
    "        plt.ylabel(ylabel)\n",
    "        plt.legend()\n",
    "        plt.tight_layout()\n",
    "        plt.savefig(os.path.join(plot_dir, \"domain\", \"domain_\" + metric + \"_\" + machine_type + \".png\"))\n",
    "        plt.close()"
   ]
  },
  {
   "cell_type": "markdown",
   "metadata": {},
   "source": [
    "## Compare metrics between normal and anomalous (test, source domain only)"
   ]
  },
  {
   "cell_type": "code",
   "execution_count": 26,
   "metadata": {},
   "outputs": [
    {
     "name": "stderr",
     "output_type": "stream",
     "text": [
      "100%|██████████| 7/7 [00:14<00:00,  2.12s/it]\n",
      "100%|██████████| 7/7 [00:19<00:00,  2.72s/it]\n"
     ]
    }
   ],
   "source": [
    "data_dir = os.path.join(\"data\", \"dcase2023t2\")\n",
    "plot_dir = os.path.join(\"results\", \"plots\", \"feature_exploration\")\n",
    "os.makedirs(plot_dir, exist_ok=True)\n",
    "\n",
    "train_test = \"test\"\n",
    "domain = \"source\"\n",
    "machine_stats = {}\n",
    "for dev_eval in [\"dev\", \"eval\"]:\n",
    "    machine_types = os.listdir(os.path.join(data_dir, dev_eval))\n",
    "    for machine_type in tqdm(machine_types):\n",
    "        data_path = os.path.join(data_dir, dev_eval, machine_type, train_test)\n",
    "        for label in [\"normal\", \"anomaly\"]:\n",
    "            file_list = []\n",
    "            for file in os.listdir(data_path):\n",
    "                file_path = os.path.join(data_dir, dev_eval, machine_type, train_test, file)\n",
    "                attributes = get_attributes(file_path)\n",
    "                attr_domain = attributes[\"domain\"]\n",
    "                attr_label = attributes[\"label\"]\n",
    "                if attr_domain == domain and attr_label == label:\n",
    "                    file_list.append(file_path)\n",
    "            stats = calculate_stats(file_list)\n",
    "            machine_stats[dev_eval + \"_\" + machine_type + \"_\" + label] = stats"
   ]
  },
  {
   "cell_type": "code",
   "execution_count": 27,
   "metadata": {},
   "outputs": [],
   "source": [
    "agg_stats = defaultdict(lambda: defaultdict(lambda: dict()))\n",
    "for machine, stats in machine_stats.items():\n",
    "    dev_eval, machine_type, label = machine.split(\"_\")\n",
    "    for metric, value in stats.items():\n",
    "        agg_stats[metric][machine_type][label] = value.mean(axis=0)"
   ]
  },
  {
   "cell_type": "code",
   "execution_count": 28,
   "metadata": {},
   "outputs": [],
   "source": [
    "for metric, metric_machine_stats in agg_stats.items():\n",
    "    xlabel = \"Mel bins\" if metric in metrics_dict[\"frequency\"] else \"Frames\"\n",
    "    ylabel = \"Frequency\" if metric in metrics_dict[\"time_frequency\"] else \"Power\"\n",
    "    for machine_type, machine_type_stats in metric_machine_stats.items():\n",
    "        plt.figure(figsize=(5, 5))\n",
    "        plt.scatter(x=range(machine_type_stats[\"normal\"].shape[0]), y=machine_type_stats[\"normal\"], label=\"normal\", s=10)\n",
    "        plt.scatter(x=range(machine_type_stats[\"anomaly\"].shape[0]), y=machine_type_stats[\"anomaly\"], label=\"anomaly\", s=10)\n",
    "        plt.title(metric.replace(\"_\", \" \").title())\n",
    "        plt.xlabel(xlabel)\n",
    "        plt.ylabel(ylabel)\n",
    "        plt.legend()\n",
    "        plt.tight_layout()\n",
    "        plt.savefig(os.path.join(plot_dir, \"label\", \"label_\" + metric + \"_\" + machine_type + \".png\"))\n",
    "        plt.close()"
   ]
  },
  {
   "cell_type": "code",
   "execution_count": null,
   "metadata": {},
   "outputs": [],
   "source": []
  }
 ],
 "metadata": {
  "kernelspec": {
   "display_name": "acoustic-anomaly-detection-hYgSvyc4-py3.11",
   "language": "python",
   "name": "python3"
  },
  "language_info": {
   "codemirror_mode": {
    "name": "ipython",
    "version": 3
   },
   "file_extension": ".py",
   "mimetype": "text/x-python",
   "name": "python",
   "nbconvert_exporter": "python",
   "pygments_lexer": "ipython3",
   "version": "3.11.3"
  },
  "orig_nbformat": 4
 },
 "nbformat": 4,
 "nbformat_minor": 2
}
