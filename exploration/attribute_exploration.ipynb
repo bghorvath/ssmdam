{
 "cells": [
  {
   "cell_type": "code",
   "execution_count": 2,
   "metadata": {},
   "outputs": [
    {
     "name": "stderr",
     "output_type": "stream",
     "text": [
      "No artists with labels found to put in legend.  Note that artists whose label start with an underscore are ignored when legend() is called with no argument.\n",
      "No artists with labels found to put in legend.  Note that artists whose label start with an underscore are ignored when legend() is called with no argument.\n",
      "No artists with labels found to put in legend.  Note that artists whose label start with an underscore are ignored when legend() is called with no argument.\n",
      "No artists with labels found to put in legend.  Note that artists whose label start with an underscore are ignored when legend() is called with no argument.\n",
      "No artists with labels found to put in legend.  Note that artists whose label start with an underscore are ignored when legend() is called with no argument.\n",
      "No artists with labels found to put in legend.  Note that artists whose label start with an underscore are ignored when legend() is called with no argument.\n",
      "No artists with labels found to put in legend.  Note that artists whose label start with an underscore are ignored when legend() is called with no argument.\n",
      "No artists with labels found to put in legend.  Note that artists whose label start with an underscore are ignored when legend() is called with no argument.\n",
      "No artists with labels found to put in legend.  Note that artists whose label start with an underscore are ignored when legend() is called with no argument.\n"
     ]
    }
   ],
   "source": [
    "import os\n",
    "import pandas as pd\n",
    "import seaborn as sns\n",
    "import matplotlib.pyplot as plt\n",
    "\n",
    "data_dir = \"data/dcase2023t2\"\n",
    "plots_dir = \"results/plots/attribute_exploration\"\n",
    "\n",
    "for dev_eval in [\"dev\", \"eval\"]:\n",
    "    machines = os.listdir(os.path.join(data_dir, dev_eval))\n",
    "    for machine in machines:\n",
    "        attributes_path = os.path.join(data_dir, dev_eval, machine, \"attributes_00.csv\")\n",
    "        attributes = pd.read_csv(attributes_path)\n",
    "\n",
    "        attributes = attributes.drop('file_name', axis=1)\n",
    "\n",
    "        attr = {}\n",
    "        for attr_name_col, col_name in zip(attributes.columns[::2], attributes.columns[1::2]):\n",
    "            attr_name = attributes[attr_name_col].unique()[0]\n",
    "            attr[attr_name] = col_name\n",
    "        \n",
    "        num_attributes = len(attr)\n",
    "        num_rows = 1\n",
    "        num_cols = num_attributes  # All subplots in one row\n",
    "        fig, axes = plt.subplots(num_rows, num_cols, figsize=(10 * num_cols, 6 * num_rows))\n",
    "        \n",
    "        if num_attributes == 1:\n",
    "            axes = [axes]\n",
    "        else:\n",
    "            axes = axes.flatten()\n",
    "\n",
    "        for ax, (attr_name, attribute_col) in zip(axes, attr.items()):\n",
    "            attribute = attributes[attribute_col]\n",
    "\n",
    "            # Create the countplot in the specified subplot\n",
    "            sns.countplot(\n",
    "                x=attribute, \n",
    "                data=attributes, \n",
    "                palette='muted', \n",
    "                hue=attribute, \n",
    "                order=sorted(attribute.unique()),\n",
    "                ax=ax\n",
    "            )\n",
    "            ax.set_ylabel('Frequency')\n",
    "            ax.set_xlabel(attr_name)\n",
    "            ax.legend().remove()\n",
    "\n",
    "        #fig.suptitle(f'Data split \"{dev_eval}\", Machine type \"{machine}\": Attribute distributions', fontsize=16)\n",
    "        plt.tight_layout()\n",
    "        #fig.subplots_adjust(top=0.88)\n",
    "            \n",
    "        if not os.path.exists(plots_dir):\n",
    "            os.makedirs(plots_dir)\n",
    "        \n",
    "        plot_file_path = os.path.join(plots_dir, f'{dev_eval}_{machine}_dists.png')\n",
    "        plt.savefig(plot_file_path, dpi=300)\n",
    "        plt.close(fig)"
   ]
  },
  {
   "cell_type": "code",
   "execution_count": null,
   "metadata": {},
   "outputs": [],
   "source": []
  }
 ],
 "metadata": {
  "kernelspec": {
   "display_name": "Python 3",
   "language": "python",
   "name": "python3"
  },
  "language_info": {
   "codemirror_mode": {
    "name": "ipython",
    "version": 3
   },
   "file_extension": ".py",
   "mimetype": "text/x-python",
   "name": "python",
   "nbconvert_exporter": "python",
   "pygments_lexer": "ipython3",
   "version": "3.11.3"
  }
 },
 "nbformat": 4,
 "nbformat_minor": 2
}
